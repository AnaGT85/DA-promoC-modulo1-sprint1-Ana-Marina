{
 "cells": [
  {
   "cell_type": "markdown",
   "metadata": {},
   "source": [
    "PAIR PROGRAMMING 10 NOVIEMBRE"
   ]
  },
  {
   "cell_type": "code",
   "execution_count": null,
   "metadata": {},
   "outputs": [],
   "source": [
    "#En la escuela donde trabajamos tienen el siguiente sistema de notas:\n",
    "#- Below 25 - F\n",
    "#- 25 to 45 - E\n",
    "#- 45 to 50 - D\n",
    "#- 50 to 60 - C\n",
    "#- 60 to 80 - B\n",
    "#- Above 80 - A\n",
    "#1El objetivo de este ejercicio es que le preguntéis \n",
    "# al usuario por una nota (numérica) y nosotros le devolvamos\n",
    "#  la nota con la letra que le corresponde."
   ]
  },
  {
   "cell_type": "code",
   "execution_count": null,
   "metadata": {},
   "outputs": [],
   "source": [
    "tu_nota = "
   ]
  },
  {
   "cell_type": "code",
   "execution_count": 13,
   "metadata": {},
   "outputs": [
    {
     "name": "stdout",
     "output_type": "stream",
     "text": [
      "A\n"
     ]
    }
   ],
   "source": [
    "tu_nota = input(\"Dime tu nota(numerica\") \n",
    "if tu_nota < \"25\" :\n",
    "    print(\"F\")\n",
    "elif tu_nota >= \"25\" and tu_nota < \"45\" :\n",
    "    print(\"E\")\n",
    "elif tu_nota >= \"45\" and tu_nota < \"50\" :\n",
    "    print(\"D\")\n",
    "elif tu_nota  >= \"50\" and tu_nota < \"60\" :\n",
    "    print(\"C\")\n",
    "elif tu_nota >= \"60\" and tu_nota < \"80\" :\n",
    "    print(\"B\")\n",
    "elif tu_nota > \"80\" :\n",
    "    print(\"A\")\n"
   ]
  },
  {
   "cell_type": "code",
   "execution_count": 15,
   "metadata": {},
   "outputs": [],
   "source": [
    "#2Cread tres inputs donde a cada uno de ellos le preguntéis su edad, el objetivo del ejercicio es determinar quien es el\n",
    "#  más viejo y el más joven.\n",
    "edad1 = input(\"dime tu edad\")\n",
    "edad2 = input(\"Dime tu edad\")\n",
    "edad3 = input(\"dime tu edad\")"
   ]
  },
  {
   "cell_type": "code",
   "execution_count": 16,
   "metadata": {},
   "outputs": [
    {
     "name": "stdout",
     "output_type": "stream",
     "text": [
      "30\n",
      "50\n",
      "26\n"
     ]
    }
   ],
   "source": [
    "print(edad1)\n",
    "print(edad2)\n",
    "print(edad3)"
   ]
  },
  {
   "cell_type": "code",
   "execution_count": 17,
   "metadata": {},
   "outputs": [
    {
     "name": "stdout",
     "output_type": "stream",
     "text": [
      "El que tiene  26 es la persona mas joven.\n",
      "\n",
      "La persona con la 50 es la persona mas mayor\n"
     ]
    }
   ],
   "source": [
    "if edad3 < \"30\" :\n",
    "    print(\"El que tiene \", edad3 , \"es la persona mas joven.\")\n",
    "if edad1 >=\"30\" and edad1<\"50\" :\n",
    "    print (\"\")\n",
    "if edad2 >= \"50\" :\n",
    "    print(\"La persona con la\", edad2, \"es la persona mas mayor\")"
   ]
  },
  {
   "cell_type": "code",
   "execution_count": 18,
   "metadata": {},
   "outputs": [
    {
     "name": "stdout",
     "output_type": "stream",
     "text": [
      "Bienvenido a bordo de 007\n"
     ]
    }
   ],
   "source": [
    "#3Escribid un programa que pregunte el nombre del \n",
    "# usuario a través de la función input(). \n",
    "# Si el nombre es \"Bond\" haced que imprima \n",
    "# \"Bienvenido a bordo de 007\". En caso contrario haced que imprima \"Buenos días NOMBRE\". \n",
    "# (Reemplace NOMBRE por el nombre del usuario).\n",
    "nombre = input(\"dime tu nombre\")\n",
    "\n",
    "if nombre == \"Bond\" :\n",
    "    print (\"Bienvenido a bordo de 007\")\n",
    "else : \n",
    "    nombre != \"Bond\" \n",
    "    print(\"Buenos dias\", nombre)\n",
    "\n"
   ]
  },
  {
   "cell_type": "code",
   "execution_count": 19,
   "metadata": {},
   "outputs": [
    {
     "name": "stdout",
     "output_type": "stream",
     "text": [
      "Buenos dias Pepe\n"
     ]
    }
   ],
   "source": [
    "nombre = input(\"dime tu nombre\")\n",
    "\n",
    "if nombre == \"Bond\" :\n",
    "    print (\"Bienvenido a bordo de 007\")\n",
    "else : \n",
    "    nombre != \"Bond\" \n",
    "    print(\"Buenos dias\", nombre)"
   ]
  },
  {
   "cell_type": "code",
   "execution_count": 21,
   "metadata": {},
   "outputs": [],
   "source": [
    "#4 tenemos un diccionario llamado arbol con los siguientes datos\n",
    "arbol = {\"Taiwan\": 69593,\n",
    "        \"Japan\": 49894, \n",
    "        \"Russia\": 41396, \n",
    "        \"Canada\": 36388, \n",
    "        \"Bulgaria\": 24987}\n",
    "\n",
    "#Cread una lista llamada \"masarboles\" con los paises con mas de 40000 arboles/km\n",
    "masarboles = []\n"
   ]
  },
  {
   "cell_type": "code",
   "execution_count": null,
   "metadata": {},
   "outputs": [],
   "source": []
  },
  {
   "cell_type": "code",
   "execution_count": 22,
   "metadata": {},
   "outputs": [
    {
     "data": {
      "text/plain": [
       "dict_values([69593, 49894, 41396, 36388, 24987])"
      ]
     },
     "execution_count": 22,
     "metadata": {},
     "output_type": "execute_result"
    }
   ],
   "source": [
    "arbol.values()\n"
   ]
  },
  {
   "cell_type": "code",
   "execution_count": null,
   "metadata": {},
   "outputs": [],
   "source": [
    "#5Los alumnos de un curso se han dividido en dos grupos A y B de acuerdo \n",
    "# al sexo y el nombre. El grupo A esta formado por las mujeres con un nombre \n",
    "# anterior a la M y los hombres con un nombre posterior a la N y el grupo B \n",
    "# por el resto. Escribid un programa que pregunte al usuario su nombre y sexo, \n",
    "# y muestre por pantalla el \n",
    "# grupo que le corresponde."
   ]
  },
  {
   "cell_type": "code",
   "execution_count": null,
   "metadata": {},
   "outputs": [],
   "source": []
  },
  {
   "cell_type": "code",
   "execution_count": null,
   "metadata": {},
   "outputs": [],
   "source": []
  },
  {
   "cell_type": "code",
   "execution_count": null,
   "metadata": {},
   "outputs": [],
   "source": []
  }
 ],
 "metadata": {
  "kernelspec": {
   "display_name": "Python 3.9.7 ('base')",
   "language": "python",
   "name": "python3"
  },
  "language_info": {
   "codemirror_mode": {
    "name": "ipython",
    "version": 3
   },
   "file_extension": ".py",
   "mimetype": "text/x-python",
   "name": "python",
   "nbconvert_exporter": "python",
   "pygments_lexer": "ipython3",
   "version": "3.9.7"
  },
  "orig_nbformat": 4,
  "vscode": {
   "interpreter": {
    "hash": "3caf7024699363795119074055a58e45741f300ae36cbc0c7edc7c57844505fc"
   }
  }
 },
 "nbformat": 4,
 "nbformat_minor": 2
}
