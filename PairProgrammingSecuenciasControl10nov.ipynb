{
 "cells": [
  {
   "cell_type": "markdown",
   "metadata": {},
   "source": [
    "PAIR PROGRAMMING 10 NOVIEMBRE"
   ]
  },
  {
   "cell_type": "code",
   "execution_count": null,
   "metadata": {},
   "outputs": [],
   "source": [
    "#1En la escuela donde trabajamos tienen el siguiente sistema de notas:\n",
    "#- Below 25 - F\n",
    "#- 25 to 45 - E\n",
    "#- 45 to 50 - D\n",
    "#- 50 to 60 - C\n",
    "#- 60 to 80 - B\n",
    "#- Above 80 - A\n",
    "#1El objetivo de este ejercicio es que le preguntéis \n",
    "# al usuario por una nota (numérica) y nosotros le devolvamos\n",
    "#  la nota con la letra que le corresponde."
   ]
  },
  {
   "cell_type": "code",
   "execution_count": 1,
   "metadata": {},
   "outputs": [
    {
     "name": "stdout",
     "output_type": "stream",
     "text": [
      "E\n"
     ]
    }
   ],
   "source": [
    "tu_nota = input(\"Dime tu nota(numerica\") \n",
    "if tu_nota < \"25\" :\n",
    "    print(\"F\")\n",
    "elif tu_nota >= \"25\" and tu_nota < \"45\" :\n",
    "    print(\"E\")\n",
    "elif tu_nota >= \"45\" and tu_nota < \"50\" :\n",
    "    print(\"D\")\n",
    "elif tu_nota  >= \"50\" and tu_nota < \"60\" :\n",
    "    print(\"C\")\n",
    "elif tu_nota >= \"60\" and tu_nota < \"80\" :\n",
    "    print(\"B\")\n",
    "elif tu_nota > \"80\" :\n",
    "    print(\"A\")\n"
   ]
  },
  {
   "cell_type": "code",
   "execution_count": 15,
   "metadata": {},
   "outputs": [],
   "source": [
    "#2Cread tres inputs donde a cada uno de ellos le preguntéis su edad, \n",
    "# el objetivo del ejercicio es determinar quien es el\n",
    "#  más viejo y el más joven.\n",
    "edad1 = input(\"dime tu edad\")\n",
    "edad2 = input(\"Dime tu edad\")\n",
    "edad3 = input(\"dime tu edad\")"
   ]
  },
  {
   "cell_type": "code",
   "execution_count": 16,
   "metadata": {},
   "outputs": [
    {
     "name": "stdout",
     "output_type": "stream",
     "text": [
      "30\n",
      "50\n",
      "26\n"
     ]
    }
   ],
   "source": [
    "print(edad1)\n",
    "print(edad2)\n",
    "print(edad3)"
   ]
  },
  {
   "cell_type": "code",
   "execution_count": 17,
   "metadata": {},
   "outputs": [
    {
     "name": "stdout",
     "output_type": "stream",
     "text": [
      "El que tiene  26 es la persona mas joven.\n",
      "\n",
      "La persona con la 50 es la persona mas mayor\n"
     ]
    }
   ],
   "source": [
    "if edad3 < \"30\" :\n",
    "    print(\"El que tiene \", edad3 , \"es la persona mas joven.\")\n",
    "if edad1 >=\"30\" and edad1<\"50\" :\n",
    "    print (\"\")\n",
    "if edad2 >= \"50\" :\n",
    "    print(\"La persona con la\", edad2, \"es la persona mas mayor\")"
   ]
  },
  {
   "cell_type": "code",
   "execution_count": 18,
   "metadata": {},
   "outputs": [
    {
     "name": "stdout",
     "output_type": "stream",
     "text": [
      "Bienvenido a bordo de 007\n"
     ]
    }
   ],
   "source": [
    "#3Escribid un programa que pregunte el nombre del \n",
    "# usuario a través de la función input(). \n",
    "# Si el nombre es \"Bond\" haced que imprima \n",
    "# \"Bienvenido a bordo de 007\". En caso contrario haced que imprima \"Buenos días NOMBRE\". \n",
    "# (Reemplace NOMBRE por el nombre del usuario).\n",
    "nombre = input(\"dime tu nombre\")\n",
    "\n",
    "if nombre == \"Bond\" :\n",
    "    print (\"Bienvenido a bordo de 007\")\n",
    "else : \n",
    "    nombre != \"Bond\" \n",
    "    print(\"Buenos dias\", nombre)\n",
    "\n"
   ]
  },
  {
   "cell_type": "code",
   "execution_count": 19,
   "metadata": {},
   "outputs": [
    {
     "name": "stdout",
     "output_type": "stream",
     "text": [
      "Buenos dias Pepe\n"
     ]
    }
   ],
   "source": [
    "nombre = input(\"dime tu nombre\")\n",
    "\n",
    "if nombre == \"Bond\" :\n",
    "    print (\"Bienvenido a bordo de 007\")\n",
    "else : \n",
    "    nombre != \"Bond\" \n",
    "    print(\"Buenos dias\", nombre)"
   ]
  },
  {
   "cell_type": "code",
   "execution_count": 1,
   "metadata": {},
   "outputs": [],
   "source": [
    "#4 tenemos un diccionario llamado arbol con los siguientes datos\n",
    "arbol = {\"Taiwan\": 69593,\n",
    "        \"Japan\": 49894, \n",
    "        \"Russia\": 41396, \n",
    "        \"Canada\": 36388, \n",
    "        \"Bulgaria\": 24987}\n",
    "\n",
    "#Cread una lista llamada \"masarboles\" con los paises con mas de 40000 arboles/km\n",
    "masarboles = []\n"
   ]
  },
  {
   "cell_type": "code",
   "execution_count": 2,
   "metadata": {},
   "outputs": [
    {
     "data": {
      "text/plain": [
       "['Taiwan', 'Japan', 'Russia']"
      ]
     },
     "execution_count": 2,
     "metadata": {},
     "output_type": "execute_result"
    }
   ],
   "source": [
    "for k, v in arbol.items():\n",
    "    if v > 40000:\n",
    "        masarboles.append(k)\n",
    "masarboles"
   ]
  },
  {
   "cell_type": "code",
   "execution_count": null,
   "metadata": {},
   "outputs": [],
   "source": [
    "#5Los alumnos de un curso se han dividido en dos grupos A y B de acuerdo \n",
    "# al sexo y el nombre. El grupo A esta formado por las mujeres con un nombre \n",
    "# anterior a la M y los hombres con un nombre posterior a la N y el grupo B \n",
    "# por el resto. Escribid un programa que pregunte al usuario su nombre y sexo, \n",
    "# y muestre por pantalla el \n",
    "# grupo que le corresponde."
   ]
  },
  {
   "cell_type": "code",
   "execution_count": 2,
   "metadata": {},
   "outputs": [
    {
     "name": "stdout",
     "output_type": "stream",
     "text": [
      "Perteneces al grupo B\n"
     ]
    }
   ],
   "source": [
    "nombre = input(\"dime tu nombre\")\n",
    "sexo = input(\"Dime tu sexo\")\n",
    "\n",
    "\n",
    "if nombre[0] < \"M\" and sexo == \"Mujer\" :\n",
    "    print(\"Perteneces al grupo A\")\n",
    "elif nombre[0] > \"N\"   and sexo == \"Hombre\" :\n",
    "    print(\"Perteneces al grupo A\")\n",
    "else :\n",
    "    print(\"Perteneces al grupo B\")\n",
    "\n",
    "\n",
    "\n"
   ]
  },
  {
   "cell_type": "code",
   "execution_count": 32,
   "metadata": {},
   "outputs": [
    {
     "name": "stdout",
     "output_type": "stream",
     "text": [
      "0\n",
      "1\n",
      "2\n"
     ]
    },
    {
     "data": {
      "text/plain": [
       "[0, 1]"
      ]
     },
     "execution_count": 32,
     "metadata": {},
     "output_type": "execute_result"
    }
   ],
   "source": [
    "#6 tenemos z=0\n",
    "#Si el valor de z es igual a 0:\n",
    "#Printead el valor de z\n",
    "#Almancenad el valor en una lista auxiliar\n",
    "#Sumadle 1 al valor de z\n",
    "z = 0\n",
    "lista_aux = []\n",
    "\n",
    "while z < 3:\n",
    "        if z == 0 :\n",
    "            print(z)\n",
    "            lista_aux.append(z)\n",
    "            z += 1\n",
    "        elif z==1:\n",
    "            print(z)\n",
    "            lista_aux.append(z)\n",
    "            z += 1\n",
    "        else:\n",
    "              print(z)\n",
    "              z +=1\n",
    "lista_aux\n"
   ]
  },
  {
   "cell_type": "code",
   "execution_count": 34,
   "metadata": {},
   "outputs": [
    {
     "data": {
      "text/plain": [
       "[0, 1, 2, 3]"
      ]
     },
     "execution_count": 34,
     "metadata": {},
     "output_type": "execute_result"
    }
   ],
   "source": [
    "#7 \n",
    "#Cread una lista vacia\n",
    "#Cread una variable cuyo valor sea 0\n",
    "#Mientras que la longitud de la lista creada en el primer paso sea <4: apendead el valor\n",
    "#de la variable creada en el paso dos y sumad 1 a la variable. \n",
    "#por ultimo, printead los valores que hemos añadido en la lista vacia(ya no estaria)\n",
    "lista_vacia = []\n",
    "libros = 0\n",
    "\n",
    "while len(lista_vacia) <4:\n",
    "    lista_vacia.append(libros)\n",
    "    libros += 1\n",
    "\n",
    "lista_vacia"
   ]
  },
  {
   "cell_type": "code",
   "execution_count": 43,
   "metadata": {},
   "outputs": [],
   "source": [
    "#8 cread variable cuyo valor sea 0, llamada \"i\"\n",
    "#cread una lista que contenga : 23,45,12,10,25\n",
    "#cread una variable cuyo valor sea 0 llamada \"suma\"\n",
    "#mientras que el valor de \"i\" sea menor a la longitud de la lista: sumad elemento a elemento\n",
    "#los valores de la lista. Es decir, primero con el segundo y el resultado con el tercero,etc\n",
    "#sumar 1 a la variable  \"i\" por cada iteracion con el bucle while\n",
    "#resultado esperado 115\n",
    "i = 0\n",
    "lista8 = [23,45,12,10,25]\n",
    "suma = 0"
   ]
  },
  {
   "cell_type": "code",
   "execution_count": 44,
   "metadata": {},
   "outputs": [
    {
     "data": {
      "text/plain": [
       "115"
      ]
     },
     "execution_count": 44,
     "metadata": {},
     "output_type": "execute_result"
    }
   ],
   "source": [
    "while i < (len(lista8)) :\n",
    "    suma = suma + lista8[i]\n",
    "    i +=1\n",
    "suma"
   ]
  },
  {
   "cell_type": "code",
   "execution_count": null,
   "metadata": {},
   "outputs": [],
   "source": [
    "#9Escribid un programa para una empresa que tiene salas de \n",
    "# juegos para todas las edades y quiere calcular de forma \n",
    "# automática el precio que debe cobrar a sus clientes por entrar. \n",
    "# El programa debe preguntar al usuario la edad del cliente y mostrar \n",
    "# el precio de la entrada. Si el cliente es menor de 4 años puede entrar \n",
    "# gratis, si tiene entre 4 y 18 años debe pagar 5€ y si es mayor de 18 años, 10€.\n"
   ]
  },
  {
   "cell_type": "code",
   "execution_count": 14,
   "metadata": {},
   "outputs": [
    {
     "name": "stdout",
     "output_type": "stream",
     "text": [
      "Debes pagar 5€\n"
     ]
    }
   ],
   "source": [
    "edad = int(input(\"dime tu edad\"))\n",
    "\n",
    "if edad < 4 :\n",
    "    print(\"Puedes entrar gratis\")\n",
    "elif edad >= 4 and edad < 18:\n",
    "    print(\"Debes pagar 5€\")\n",
    "elif edad > 18:\n",
    "    print(\"Debes pagar 10€\")"
   ]
  },
  {
   "cell_type": "code",
   "execution_count": null,
   "metadata": {},
   "outputs": [],
   "source": [
    "#10 Ingredientes vegetarianos: Pimiento y tofu.\n",
    "#Ingredientes no vegetarianos: Peperoni, Jamón y Salmón.\n",
    "#Escribid un programa que pregunte al usuario si quiere una pizza \n",
    "# vegetariana o no, y en función de su respuesta le muestre un menú \n",
    "# con los ingredientes disponibles para que elija. Solo se puede eligir \n",
    "# un ingrediente además de la mozzarella y el tomate que están en todas la pizzas. \n",
    "# Al final se debe mostrar por pantalla si la pizza elegida es vegetariana o no y \n",
    "# todos los ingredientes que lleva."
   ]
  },
  {
   "cell_type": "code",
   "execution_count": 20,
   "metadata": {},
   "outputs": [
    {
     "name": "stdout",
     "output_type": "stream",
     "text": [
      "Elige entre pimiento o tofu, solo puedes elegir uno\n",
      "Tu pizza sera vegetariana con mozzarella, tomate y  Pimiento\n"
     ]
    }
   ],
   "source": [
    "respuesta = input(\"¿Quieres pizza vegetariana?\")\n",
    "\n",
    "if respuesta == \"Si\" :\n",
    "    print(\"Elige entre pimiento o tofu,\", \"solo puedes elegir uno\")\n",
    "    vege = input(\"Pimiento o tofu\")\n",
    "    print(\"Tu pizza sera vegetariana con mozzarella, tomate y \", vege)\n",
    "else :\n",
    "    print(\"Elige entre peperoni, jamon o salmon,\" , \" solo puedes elegir uno\")\n",
    "    carni = input(\"Peperoni, jamon o salmon\")\n",
    "    print(\"Tu pizza no es vegetariana\", \" lleva mozzarella, tomate y\", carni)\n"
   ]
  },
  {
   "cell_type": "code",
   "execution_count": 21,
   "metadata": {},
   "outputs": [
    {
     "name": "stdout",
     "output_type": "stream",
     "text": [
      "Elige entre peperoni, jamon o salmon,  solo puedes elegir uno\n",
      "Tu pizza no es vegetariana  lleva mozzarella, tomate y jamon\n"
     ]
    }
   ],
   "source": [
    "respuesta = input(\"¿Quieres pizza vegetariana?\")\n",
    "\n",
    "if respuesta == \"Si\" :\n",
    "    print(\"Elige entre pimiento o tofu,\", \"solo puedes elegir uno\")\n",
    "    vege = input(\"Pimiento o tofu\")\n",
    "    print(\"Tu pizza sera vegetariana con mozzarella, tomate y \", vege)\n",
    "else :\n",
    "    print(\"Elige entre peperoni, jamon o salmon,\" , \" solo puedes elegir uno\")\n",
    "    carni = input(\"Peperoni, jamon o salmon\")\n",
    "    print(\"Tu pizza no es vegetariana\", \" lleva mozzarella, tomate y\", carni)\n"
   ]
  }
 ],
 "metadata": {
  "kernelspec": {
   "display_name": "Python 3.9.7 ('base')",
   "language": "python",
   "name": "python3"
  },
  "language_info": {
   "codemirror_mode": {
    "name": "ipython",
    "version": 3
   },
   "file_extension": ".py",
   "mimetype": "text/x-python",
   "name": "python",
   "nbconvert_exporter": "python",
   "pygments_lexer": "ipython3",
   "version": "3.9.7"
  },
  "orig_nbformat": 4,
  "vscode": {
   "interpreter": {
    "hash": "3caf7024699363795119074055a58e45741f300ae36cbc0c7edc7c57844505fc"
   }
  }
 },
 "nbformat": 4,
 "nbformat_minor": 2
}
