{
 "cells": [
  {
   "cell_type": "code",
   "execution_count": 22,
   "metadata": {},
   "outputs": [
    {
     "name": "stdout",
     "output_type": "stream",
     "text": [
      "100\n",
      "2\n",
      "3\n"
     ]
    }
   ],
   "source": [
    "#1 Escribid un programa que pregunte al usuario una cantidad a invertir, el interés anual y el número de años, \n",
    "# y muestre por pantalla el capital obtenido en la inversión cada año que dura la inversion\n",
    "\n",
    "dinero= int(input('¿Cuanto dinero quieres invertir?'))\n",
    "interes= int(input('¿qué interés vas a dar?'))\n",
    "anyos= int(input('¿A cuántos años?'))\n",
    "\n",
    "print(dinero)\n",
    "print(interes)\n",
    "print(anyos)\n"
   ]
  },
  {
   "cell_type": "code",
   "execution_count": 32,
   "metadata": {},
   "outputs": [
    {
     "name": "stdout",
     "output_type": "stream",
     "text": [
      "102.0\n",
      "104.04\n",
      "106.1208\n"
     ]
    }
   ],
   "source": [
    "i = 1\n",
    "while i <= anyos:\n",
    "    interes_anual = dinero * (interes / 100)\n",
    "    dinero = dinero + interes_anual\n",
    "    i +=1\n",
    "    print (dinero)"
   ]
  },
  {
   "cell_type": "code",
   "execution_count": 17,
   "metadata": {},
   "outputs": [
    {
     "name": "stdout",
     "output_type": "stream",
     "text": [
      "Hoy es viernes\n",
      "u\n"
     ]
    }
   ],
   "source": [
    "\n",
    "#2 Escribid un programa en el que se pregunte al usuario por una frase y una letra, y muestre por pantalla el número \n",
    "# de veces que aparece la letra en la frase.\n",
    "\n",
    "frase= input('Dime una frase')\n",
    "letra= input('Dime una letra')\n",
    "\n",
    "print(frase)\n",
    "print(letra)\n"
   ]
  },
  {
   "cell_type": "code",
   "execution_count": 25,
   "metadata": {},
   "outputs": [
    {
     "name": "stdout",
     "output_type": "stream",
     "text": [
      "No hay esa letra en la frase\n"
     ]
    }
   ],
   "source": [
    "for palabra in frase:\n",
    "    if 'u' in palabra:\n",
    "        print(palabra.count('u'))\n",
    "else: \n",
    "    print('No hay esa letra en la frase')"
   ]
  },
  {
   "cell_type": "code",
   "execution_count": 24,
   "metadata": {},
   "outputs": [
    {
     "name": "stdout",
     "output_type": "stream",
     "text": [
      "1\n",
      "1\n",
      "1\n",
      "No hay esa letra en la frase\n"
     ]
    }
   ],
   "source": [
    "for palabra in frase:\n",
    "    if 'e' in palabra:\n",
    "        print(palabra.count('e'))\n",
    "\n",
    "else: \n",
    "    print('No hay esa letra en la frase')"
   ]
  },
  {
   "cell_type": "code",
   "execution_count": 32,
   "metadata": {},
   "outputs": [
    {
     "name": "stdout",
     "output_type": "stream",
     "text": [
      "5\n"
     ]
    }
   ],
   "source": [
    "\n",
    "#3 Escribid un programa que nos devuelva la tabla de \n",
    "# multiplicar de un número especificado en una función input\n",
    "\n",
    "numero = input('Dime un número')\n",
    "print(numero)\n",
    "\n",
    "tabla_multiplicar= []\n",
    "\n"
   ]
  },
  {
   "cell_type": "code",
   "execution_count": 33,
   "metadata": {},
   "outputs": [
    {
     "name": "stdout",
     "output_type": "stream",
     "text": [
      "[0, 5, 10, 15, 20, 25, 30, 35, 40, 45, 50]\n"
     ]
    }
   ],
   "source": [
    "[tabla_multiplicar.append(x*5) for x in range(0,11)]\n",
    "\n",
    "print(tabla_multiplicar)"
   ]
  },
  {
   "cell_type": "code",
   "execution_count": 40,
   "metadata": {},
   "outputs": [
    {
     "data": {
      "text/plain": [
       "[75, 150, 145]"
      ]
     },
     "execution_count": 40,
     "metadata": {},
     "output_type": "execute_result"
    }
   ],
   "source": [
    "\n",
    "#4 Dada la siguinte lista de números:\n",
    "numbers = [12, 75, 150, 180, 145, 525, 50]\n",
    "\n",
    "#Escribid un programa que muestre sólo los números de una \n",
    "# lista que cumplan las siguientes condiciones\n",
    "# El número debe ser divisible entre cinco\n",
    "# Si el número es mayor que 150, se salta y se pasa al siguiente número\n",
    "# Si el número es mayor que 500, entonces detenga el bucle\n",
    "\n",
    "lista5= []\n",
    "\n",
    "\n",
    "for num in numbers:\n",
    "    if num <= 150 and num % 5 == 0:\n",
    "        lista5.append(num)\n",
    "        pass\n",
    "    if num > 500:\n",
    "            break\n",
    "lista5\n"
   ]
  },
  {
   "cell_type": "code",
   "execution_count": 34,
   "metadata": {},
   "outputs": [
    {
     "name": "stdout",
     "output_type": "stream",
     "text": [
      "[50, 40, 30, 20, 10]\n"
     ]
    }
   ],
   "source": [
    "#5 Dada la siguiente lista:\n",
    "\n",
    "list1 = [10, 20, 30, 40, 50]\n",
    "\n",
    "# Imprimir la lista en orden inverso\n",
    "\n",
    "list1.reverse()\n",
    "print(list1)\n"
   ]
  },
  {
   "cell_type": "code",
   "execution_count": 13,
   "metadata": {},
   "outputs": [],
   "source": [
    "#6 Dado el siguiente código\n",
    "\n",
    "#for i in ['1','2','3']:\n",
    "  #  print (i**2)\n",
    "\n",
    "# Usando un try ... except, cread un programa para evitar \n",
    "# que nos de un error el código anterior. En su lugar, si se encuentra un error, \n",
    "# deberéis poner el código necesario para que no nos devuelva error\n"
   ]
  },
  {
   "cell_type": "code",
   "execution_count": 20,
   "metadata": {},
   "outputs": [
    {
     "name": "stdout",
     "output_type": "stream",
     "text": [
      "Nos está dando un error\n",
      "1\n",
      "Nos está dando un error\n",
      "4\n",
      "Nos está dando un error\n",
      "9\n"
     ]
    }
   ],
   "source": [
    "\n",
    "\n",
    "for i in ['1','2','3']:\n",
    "    try: \n",
    "        print (i**2)\n",
    "    except TypeError:\n",
    "        print('Nos está dando un error')\n",
    "        i = int(i)\n",
    "        print (i**2)\n",
    "\n",
    "        \n"
   ]
  }
 ],
 "metadata": {
  "kernelspec": {
   "display_name": "Python 3.9.7 ('base')",
   "language": "python",
   "name": "python3"
  },
  "language_info": {
   "codemirror_mode": {
    "name": "ipython",
    "version": 3
   },
   "file_extension": ".py",
   "mimetype": "text/x-python",
   "name": "python",
   "nbconvert_exporter": "python",
   "pygments_lexer": "ipython3",
   "version": "3.9.7"
  },
  "orig_nbformat": 4,
  "vscode": {
   "interpreter": {
    "hash": "3caf7024699363795119074055a58e45741f300ae36cbc0c7edc7c57844505fc"
   }
  }
 },
 "nbformat": 4,
 "nbformat_minor": 2
}
