{
 "cells": [
  {
   "cell_type": "code",
   "execution_count": 16,
   "metadata": {},
   "outputs": [],
   "source": [
    "#usando la funcion input pregunta al usuario por tres amigos\n",
    "lista_amigos = [ input(\"Dime el nombre de tres amigos\")]"
   ]
  },
  {
   "cell_type": "code",
   "execution_count": 17,
   "metadata": {},
   "outputs": [
    {
     "name": "stdout",
     "output_type": "stream",
     "text": [
      "<class 'list'>\n"
     ]
    }
   ],
   "source": [
    "#comprobamos que la variable que hemos creado es una lista\n",
    "print (type(lista_amigos))"
   ]
  },
  {
   "cell_type": "code",
   "execution_count": 18,
   "metadata": {},
   "outputs": [
    {
     "data": {
      "text/plain": [
       "['Marcos, Juan, Lucia']"
      ]
     },
     "execution_count": 18,
     "metadata": {},
     "output_type": "execute_result"
    }
   ],
   "source": [
    "lista_amigos"
   ]
  },
  {
   "cell_type": "code",
   "execution_count": 28,
   "metadata": {},
   "outputs": [],
   "source": [
    "#usando input pregunta por la altura de cada amigo\n",
    "altura_marcos = input(\"Dime la altura Marcos\")\n",
    "altura_juan = input(\"dime la altura de juan\")\n",
    "altura_lucia = input(\"Dime la altura de lucia\")"
   ]
  },
  {
   "cell_type": "code",
   "execution_count": 31,
   "metadata": {},
   "outputs": [
    {
     "name": "stdout",
     "output_type": "stream",
     "text": [
      "['1.45', '1.67', '1.57']\n"
     ]
    }
   ],
   "source": [
    "#almacenad los datos en una lista\n",
    "lista_alturas = [altura_marcos, altura_juan, altura_lucia]\n",
    "print (lista_alturas)\n"
   ]
  },
  {
   "cell_type": "code",
   "execution_count": 33,
   "metadata": {},
   "outputs": [],
   "source": [
    "#usamos el codigo que nos proporciona el ejercicio para que las alturas esten en modo float\n",
    "lista_alturas = [float(i) for i in lista_alturas]"
   ]
  },
  {
   "cell_type": "code",
   "execution_count": 38,
   "metadata": {},
   "outputs": [
    {
     "data": {
      "text/plain": [
       "['Marcos, Juan, Lucia']"
      ]
     },
     "execution_count": 38,
     "metadata": {},
     "output_type": "execute_result"
    }
   ],
   "source": [
    "#ordenamos las dos listas de mayor a menor\n",
    "lista_amigos.sort()\n",
    "lista_amigos"
   ]
  },
  {
   "cell_type": "code",
   "execution_count": 37,
   "metadata": {},
   "outputs": [
    {
     "data": {
      "text/plain": [
       "[1.45, 1.57, 1.67]"
      ]
     },
     "execution_count": 37,
     "metadata": {},
     "output_type": "execute_result"
    }
   ],
   "source": [
    "lista_alturas.sort()\n",
    "lista_alturas"
   ]
  },
  {
   "cell_type": "code",
   "execution_count": null,
   "metadata": {},
   "outputs": [],
   "source": [
    "#para la lista de nombres no nos la ha ordenado, la de alturas si"
   ]
  },
  {
   "cell_type": "code",
   "execution_count": 39,
   "metadata": {},
   "outputs": [
    {
     "data": {
      "text/plain": [
       "1.67"
      ]
     },
     "execution_count": 39,
     "metadata": {},
     "output_type": "execute_result"
    }
   ],
   "source": [
    "#cual es el maximo en la lista de alturas\n",
    "max(lista_alturas)"
   ]
  },
  {
   "cell_type": "code",
   "execution_count": 40,
   "metadata": {},
   "outputs": [
    {
     "data": {
      "text/plain": [
       "1.45"
      ]
     },
     "execution_count": 40,
     "metadata": {},
     "output_type": "execute_result"
    }
   ],
   "source": [
    "#cual es la altura minima de los amigos\n",
    "min(lista_alturas)"
   ]
  },
  {
   "cell_type": "code",
   "execution_count": 41,
   "metadata": {},
   "outputs": [],
   "source": [
    "#nos dan las siguientes listas para los ejercicios restantes\n",
    "lista1 = [44,55,67,44,98,29]\n",
    "lista2 = [34,56,56,78,67,56]"
   ]
  },
  {
   "cell_type": "code",
   "execution_count": 56,
   "metadata": {},
   "outputs": [
    {
     "data": {
      "text/plain": [
       "[[44, 55, 67, 44, 98, 29], [34, 56, 56, 78, 67, 56]]"
      ]
     },
     "execution_count": 56,
     "metadata": {},
     "output_type": "execute_result"
    }
   ],
   "source": [
    "#cread una nueva variable que se llame lista_lista y sean dos listas juntas\n",
    "lista_lista = [lista1, lista2]\n",
    "lista_lista"
   ]
  },
  {
   "cell_type": "code",
   "execution_count": 57,
   "metadata": {},
   "outputs": [
    {
     "data": {
      "text/plain": [
       "[44, 55, 67, 44, 98, 29, 34, 56, 56, 78, 67, 56]"
      ]
     },
     "execution_count": 57,
     "metadata": {},
     "output_type": "execute_result"
    }
   ],
   "source": [
    "#cread una nueva variable que se llame lista_numeros deonde las dos listas esten unidas\n",
    "lista_numeros = lista1 + lista2\n",
    "lista_numeros"
   ]
  },
  {
   "cell_type": "code",
   "execution_count": 58,
   "metadata": {},
   "outputs": [
    {
     "data": {
      "text/plain": [
       "0"
      ]
     },
     "execution_count": 58,
     "metadata": {},
     "output_type": "execute_result"
    }
   ],
   "source": [
    "#cuantas veces sale el numero 67 en cada una de las listas\n",
    "lista_lista.count(67)"
   ]
  },
  {
   "cell_type": "code",
   "execution_count": 59,
   "metadata": {},
   "outputs": [
    {
     "data": {
      "text/plain": [
       "2"
      ]
     },
     "execution_count": 59,
     "metadata": {},
     "output_type": "execute_result"
    }
   ],
   "source": [
    "lista_numeros.count(67)"
   ]
  },
  {
   "cell_type": "markdown",
   "metadata": {},
   "source": [
    "En la lista_lista no hay ningun 67 porque contiene dos listas, no hay ninguna lista que se llame 67. El 67 esta contenido dentro de las listas"
   ]
  },
  {
   "cell_type": "code",
   "execution_count": 60,
   "metadata": {},
   "outputs": [
    {
     "data": {
      "text/plain": [
       "[56, 67, 78, 56, 56, 34, 29, 98, 44, 67, 55, 44]"
      ]
     },
     "execution_count": 60,
     "metadata": {},
     "output_type": "execute_result"
    }
   ],
   "source": [
    "#usando la lista_numeros dadle la vuelta a la lista\n",
    "lista_numeros.reverse()\n",
    "lista_numeros"
   ]
  }
 ],
 "metadata": {
  "kernelspec": {
   "display_name": "Python 3.9.7 ('base')",
   "language": "python",
   "name": "python3"
  },
  "language_info": {
   "codemirror_mode": {
    "name": "ipython",
    "version": 3
   },
   "file_extension": ".py",
   "mimetype": "text/x-python",
   "name": "python",
   "nbconvert_exporter": "python",
   "pygments_lexer": "ipython3",
   "version": "3.9.7"
  },
  "orig_nbformat": 4,
  "vscode": {
   "interpreter": {
    "hash": "3caf7024699363795119074055a58e45741f300ae36cbc0c7edc7c57844505fc"
   }
  }
 },
 "nbformat": 4,
 "nbformat_minor": 2
}
