{
 "cells": [
  {
   "cell_type": "markdown",
   "metadata": {},
   "source": [
    "Ejercicios de pair programming del 4 noviembre"
   ]
  },
  {
   "cell_type": "code",
   "execution_count": 47,
   "metadata": {},
   "outputs": [],
   "source": [
    "#creamos un diccionario con las keys: nombres, apellidos, edades e hijos.\n",
    "#Cada value sera una lista que iremos creando  con inputs\n",
    "diccionario1 = {\"Nombres\" : [], \"Apellidos\" : [], \"Edades\" : [], \"Hijos\" : []}"
   ]
  },
  {
   "cell_type": "code",
   "execution_count": 48,
   "metadata": {},
   "outputs": [
    {
     "data": {
      "text/plain": [
       "{'Nombres': [], 'Apellidos': [], 'Edades': [], 'Hijos': []}"
      ]
     },
     "execution_count": 48,
     "metadata": {},
     "output_type": "execute_result"
    }
   ],
   "source": [
    "#comprobamos\n",
    "diccionario1"
   ]
  },
  {
   "cell_type": "code",
   "execution_count": 70,
   "metadata": {},
   "outputs": [
    {
     "name": "stdout",
     "output_type": "stream",
     "text": [
      "['Maria', 'Carmen', 'Luisa']\n"
     ]
    }
   ],
   "source": [
    "#cread un input que pregunte por tres nombres para almacenar en una lista en la value de nombres\n",
    "value1 = input(\"dime tres nombres\").split(\",\")\n",
    "print (value1)"
   ]
  },
  {
   "cell_type": "code",
   "execution_count": 71,
   "metadata": {},
   "outputs": [
    {
     "name": "stdout",
     "output_type": "stream",
     "text": [
      "['Lopez', 'Gomez', 'Sanchez']\n"
     ]
    }
   ],
   "source": [
    "#crea un input que pregunte por tres apellidos para almacenar en una lista que sera el value de apellidos\n",
    "value2 = input(\"Dime tres apellidos\").split(\",\")\n",
    "print (value2)"
   ]
  },
  {
   "cell_type": "code",
   "execution_count": 72,
   "metadata": {},
   "outputs": [
    {
     "name": "stdout",
     "output_type": "stream",
     "text": [
      "['25', '26', '45']\n"
     ]
    }
   ],
   "source": [
    "#crea un input que pregunte por tres edades, se almacenan en una lista que sera el value de edades\n",
    "value3 = input(\"dime tres edades\").split(\",\")\n",
    "print (value3)"
   ]
  },
  {
   "cell_type": "code",
   "execution_count": 74,
   "metadata": {},
   "outputs": [
    {
     "name": "stdout",
     "output_type": "stream",
     "text": [
      "['5', '4', '2']\n"
     ]
    }
   ],
   "source": [
    "#crea un input que pregunte por tres numeros de hijos, se almacenan en una lista y sera la value de la key hijos\n",
    "value4 = input(\"dime tres numeros de hijos\").split(\",\")\n",
    "print (value4)"
   ]
  },
  {
   "cell_type": "code",
   "execution_count": 75,
   "metadata": {},
   "outputs": [],
   "source": [
    "#crear un diccionario con los resultados de los input\n",
    "diccionario1 = {\"Nombres\" : value1, \"Apellidos\" : value2, \"Edades\" : value3, \"Hijos\" : value4}"
   ]
  },
  {
   "cell_type": "code",
   "execution_count": 76,
   "metadata": {},
   "outputs": [
    {
     "data": {
      "text/plain": [
       "{'Nombres': ['Maria', 'Carmen', 'Luisa'],\n",
       " 'Apellidos': ['Lopez', 'Gomez', 'Sanchez'],\n",
       " 'Edades': ['25', '26', '45'],\n",
       " 'Hijos': ['5', '4', '2']}"
      ]
     },
     "execution_count": 76,
     "metadata": {},
     "output_type": "execute_result"
    }
   ],
   "source": [
    "diccionario1"
   ]
  },
  {
   "cell_type": "code",
   "execution_count": 77,
   "metadata": {},
   "outputs": [
    {
     "data": {
      "text/plain": [
       "[1, 3, 2]"
      ]
     },
     "execution_count": 77,
     "metadata": {},
     "output_type": "execute_result"
    }
   ],
   "source": [
    "#cread una nueva key con el numero de hermanos\n",
    "diccionario1.setdefault(\"Hermanos\" , [1, 3, 2])"
   ]
  },
  {
   "cell_type": "code",
   "execution_count": 78,
   "metadata": {},
   "outputs": [
    {
     "data": {
      "text/plain": [
       "{'Nombres': ['Maria', 'Carmen', 'Luisa'],\n",
       " 'Apellidos': ['Lopez', 'Gomez', 'Sanchez'],\n",
       " 'Edades': ['25', '26', '45'],\n",
       " 'Hijos': ['5', '4', '2'],\n",
       " 'Hermanos': [1, 3, 2]}"
      ]
     },
     "execution_count": 78,
     "metadata": {},
     "output_type": "execute_result"
    }
   ],
   "source": [
    "#confirmamos\n",
    "diccionario1"
   ]
  },
  {
   "cell_type": "code",
   "execution_count": 79,
   "metadata": {},
   "outputs": [
    {
     "data": {
      "text/plain": [
       "dict_keys(['Nombres', 'Apellidos', 'Edades', 'Hijos', 'Hermanos'])"
      ]
     },
     "execution_count": 79,
     "metadata": {},
     "output_type": "execute_result"
    }
   ],
   "source": [
    "#cuales son las keys de nuestro diccionario\n",
    "diccionario1.keys()"
   ]
  },
  {
   "cell_type": "code",
   "execution_count": 80,
   "metadata": {},
   "outputs": [
    {
     "data": {
      "text/plain": [
       "['Maria', 'Carmen', 'Luisa']"
      ]
     },
     "execution_count": 80,
     "metadata": {},
     "output_type": "execute_result"
    }
   ],
   "source": [
    "#extraer los values de la key nombres de dos maneras diferentes\n",
    "diccionario1.get(\"Nombres\")\n"
   ]
  },
  {
   "cell_type": "code",
   "execution_count": 81,
   "metadata": {},
   "outputs": [
    {
     "data": {
      "text/plain": [
       "['Maria', 'Carmen', 'Luisa']"
      ]
     },
     "execution_count": 81,
     "metadata": {},
     "output_type": "execute_result"
    }
   ],
   "source": [
    "diccionario1.setdefault(\"Nombres\")"
   ]
  },
  {
   "cell_type": "code",
   "execution_count": 82,
   "metadata": {},
   "outputs": [
    {
     "data": {
      "text/plain": [
       "'desconocida'"
      ]
     },
     "execution_count": 82,
     "metadata": {},
     "output_type": "execute_result"
    }
   ],
   "source": [
    "#extraer los valores de la key nacionalidad y si no existe que nos devuelva desconocida\n",
    "diccionario1.setdefault(\"Nacionalidad\" , \"desconocida\")"
   ]
  },
  {
   "cell_type": "code",
   "execution_count": 83,
   "metadata": {},
   "outputs": [
    {
     "data": {
      "text/plain": [
       "{'Nombres': ['Maria', 'Carmen', 'Luisa'],\n",
       " 'Apellidos': ['Lopez', 'Gomez', 'Sanchez'],\n",
       " 'Edades': ['25', '26', '45'],\n",
       " 'Hijos': ['5', '4', '2'],\n",
       " 'Hermanos': [1, 3, 2],\n",
       " 'Nacionalidad': 'desconocida'}"
      ]
     },
     "execution_count": 83,
     "metadata": {},
     "output_type": "execute_result"
    }
   ],
   "source": [
    "#comprobamos\n",
    "diccionario1"
   ]
  },
  {
   "cell_type": "code",
   "execution_count": 84,
   "metadata": {},
   "outputs": [
    {
     "data": {
      "text/plain": [
       "[('Apellidos', ['Lopez', 'Gomez', 'Sanchez']),\n",
       " ('Edades', ['25', '26', '45']),\n",
       " ('Hermanos', [1, 3, 2]),\n",
       " ('Hijos', ['5', '4', '2']),\n",
       " ('Nacionalidad', 'desconocida'),\n",
       " ('Nombres', ['Maria', 'Carmen', 'Luisa'])]"
      ]
     },
     "execution_count": 84,
     "metadata": {},
     "output_type": "execute_result"
    }
   ],
   "source": [
    "#ordenad los elementos del diccionario basandonos en keys y values\n",
    "sorted(diccionario1.items())"
   ]
  },
  {
   "cell_type": "code",
   "execution_count": 85,
   "metadata": {},
   "outputs": [],
   "source": [
    "#convertid la lista de tuplas anterior en un diccionario\n",
    "diccionario2 = dict (sorted(diccionario1.items()))"
   ]
  },
  {
   "cell_type": "code",
   "execution_count": 86,
   "metadata": {},
   "outputs": [
    {
     "data": {
      "text/plain": [
       "{'Apellidos': ['Lopez', 'Gomez', 'Sanchez'],\n",
       " 'Edades': ['25', '26', '45'],\n",
       " 'Hermanos': [1, 3, 2],\n",
       " 'Hijos': ['5', '4', '2'],\n",
       " 'Nacionalidad': 'desconocida',\n",
       " 'Nombres': ['Maria', 'Carmen', 'Luisa']}"
      ]
     },
     "execution_count": 86,
     "metadata": {},
     "output_type": "execute_result"
    }
   ],
   "source": [
    "#comprobamos\n",
    "diccionario2"
   ]
  },
  {
   "cell_type": "code",
   "execution_count": 87,
   "metadata": {},
   "outputs": [
    {
     "data": {
      "text/plain": [
       "'desconocida'"
      ]
     },
     "execution_count": 87,
     "metadata": {},
     "output_type": "execute_result"
    }
   ],
   "source": [
    "#Elimina la key de nacionalidad\n",
    "diccionario1.pop(\"Nacionalidad\")"
   ]
  },
  {
   "cell_type": "code",
   "execution_count": 88,
   "metadata": {},
   "outputs": [
    {
     "data": {
      "text/plain": [
       "{'Nombres': ['Maria', 'Carmen', 'Luisa'],\n",
       " 'Apellidos': ['Lopez', 'Gomez', 'Sanchez'],\n",
       " 'Edades': ['25', '26', '45'],\n",
       " 'Hijos': ['5', '4', '2'],\n",
       " 'Hermanos': [1, 3, 2]}"
      ]
     },
     "execution_count": 88,
     "metadata": {},
     "output_type": "execute_result"
    }
   ],
   "source": [
    "#comprobamos\n",
    "diccionario1"
   ]
  },
  {
   "cell_type": "code",
   "execution_count": 90,
   "metadata": {},
   "outputs": [
    {
     "data": {
      "text/plain": [
       "'5'"
      ]
     },
     "execution_count": 90,
     "metadata": {},
     "output_type": "execute_result"
    }
   ],
   "source": [
    "#que persona tiene mayor numero de hijos?\n",
    "#sacamos el value de la key hijos\n",
    "max(diccionario1.get(\"Hijos\"))"
   ]
  },
  {
   "cell_type": "code",
   "execution_count": 92,
   "metadata": {},
   "outputs": [
    {
     "data": {
      "text/plain": [
       "0"
      ]
     },
     "execution_count": 92,
     "metadata": {},
     "output_type": "execute_result"
    }
   ],
   "source": [
    "#5 es el mayor numero de hijos, para saber en que posicion esta el 5:\n",
    "diccionario1.get(\"Hijos\").index('5')"
   ]
  },
  {
   "cell_type": "code",
   "execution_count": 93,
   "metadata": {},
   "outputs": [
    {
     "data": {
      "text/plain": [
       "'Maria'"
      ]
     },
     "execution_count": 93,
     "metadata": {},
     "output_type": "execute_result"
    }
   ],
   "source": [
    "#buscamos en la key nombre cual es la value que esta en posicion 0:\n",
    "diccionario1.get(\"Nombres\")[0]"
   ]
  },
  {
   "cell_type": "markdown",
   "metadata": {},
   "source": [
    "Maria es la persona que tiene mas hijos,5.\n"
   ]
  },
  {
   "cell_type": "code",
   "execution_count": 94,
   "metadata": {},
   "outputs": [
    {
     "data": {
      "text/plain": [
       "'25'"
      ]
     },
     "execution_count": 94,
     "metadata": {},
     "output_type": "execute_result"
    }
   ],
   "source": [
    "#quien es la persona mas joven\n",
    "#buscamos el minimo en la key edades\n",
    "min(diccionario1.get(\"Edades\"))\n"
   ]
  },
  {
   "cell_type": "code",
   "execution_count": 95,
   "metadata": {},
   "outputs": [
    {
     "data": {
      "text/plain": [
       "0"
      ]
     },
     "execution_count": 95,
     "metadata": {},
     "output_type": "execute_result"
    }
   ],
   "source": [
    "#25 años tiene la persona mas joven\n",
    "#Buscamos la posicion de 25 en la lista de edades\n",
    "diccionario1.get(\"Edades\").index('25')"
   ]
  },
  {
   "cell_type": "code",
   "execution_count": 96,
   "metadata": {},
   "outputs": [
    {
     "data": {
      "text/plain": [
       "'Maria'"
      ]
     },
     "execution_count": 96,
     "metadata": {},
     "output_type": "execute_result"
    }
   ],
   "source": [
    "#La persona con 25 años esta en la posicion 0 de nombres\n",
    "diccionario1.get(\"Nombres\")[0]"
   ]
  },
  {
   "cell_type": "markdown",
   "metadata": {},
   "source": [
    "Maria es la persona mas joven del diccionario, tiene 25 años"
   ]
  }
 ],
 "metadata": {
  "kernelspec": {
   "display_name": "Python 3.9.7 ('base')",
   "language": "python",
   "name": "python3"
  },
  "language_info": {
   "codemirror_mode": {
    "name": "ipython",
    "version": 3
   },
   "file_extension": ".py",
   "mimetype": "text/x-python",
   "name": "python",
   "nbconvert_exporter": "python",
   "pygments_lexer": "ipython3",
   "version": "3.9.7"
  },
  "orig_nbformat": 4,
  "vscode": {
   "interpreter": {
    "hash": "3caf7024699363795119074055a58e45741f300ae36cbc0c7edc7c57844505fc"
   }
  }
 },
 "nbformat": 4,
 "nbformat_minor": 2
}
